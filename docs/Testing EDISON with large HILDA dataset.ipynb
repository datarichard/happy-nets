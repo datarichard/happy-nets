{
 "cells": [
  {
   "cell_type": "markdown",
   "metadata": {},
   "source": [
    "# Testing EDISON performance\n",
    "The developer version of EDISON was installed using devtools:\n",
    "```\n",
    "devtools::install_github(repo='FrankD/EDISON',ref='MultipleTimeSeries', \n",
    "subdir='Package/EDISON/')\n",
    "```\n",
    "\n",
    "Frank Dondelinger provided the following script to test a small simulated dataset"
   ]
  },
  {
   "cell_type": "code",
   "execution_count": null,
   "metadata": {
    "collapsed": true
   },
   "outputs": [],
   "source": [
    "#### NOT RUN ####\n",
    "library(EDISON)\n",
    "\n",
    "set.seed(10)\n",
    "\n",
    "# Generate a network with 5 nodes and no changepoints\n",
    "test = generateNetwork(l=10, q=5, k_bar=0)\n",
    "\n",
    "# Generate 100 repeated measurements for 10 time points\n",
    "test.data = lapply(1:100, simulateNetwork, l=10, net=test)\n",
    "\n",
    "# Make array and put dimensions in the right order (repeats, time points, variables)\n",
    "test.data.array = sapply(test.data, function(x) x$sim_data, simplify='array')\n",
    "test.data.array = aperm(test.data.array, c(3,2,1))\n",
    "\n",
    "# Specify inference with no changepoints\n",
    "edison.options = defaultOptions()\n",
    "edison.options$cp.fixed = TRUE\n",
    "\n",
    "# Run EDISON\n",
    "edison.test = EDISON.run(test.data.array, num.iter=100000, options=edison.options)\n",
    "\n",
    "# Calculate posterior probabilities of the edges in the network\n",
    "calculateEdgeProbabilities(edison.test)$probs.segs"
   ]
  },
  {
   "cell_type": "markdown",
   "metadata": {},
   "source": [
    "The code below was used to test a larger sample of simulated data, similar in size to the HILDA dataset, and measure the time it takes to run. "
   ]
  },
  {
   "cell_type": "code",
   "execution_count": 1,
   "metadata": {},
   "outputs": [
    {
     "name": "stderr",
     "output_type": "stream",
     "text": [
      "── Attaching packages ─────────────────────────────────────── tidyverse 1.2.1 ──\n",
      "✔ ggplot2 3.1.0     ✔ purrr   0.2.5\n",
      "✔ tibble  2.0.1     ✔ dplyr   0.7.8\n",
      "✔ tidyr   0.8.2     ✔ stringr 1.3.1\n",
      "✔ readr   1.1.1     ✔ forcats 0.3.0\n",
      "── Conflicts ────────────────────────────────────────── tidyverse_conflicts() ──\n",
      "✖ dplyr::filter() masks stats::filter()\n",
      "✖ dplyr::lag()    masks stats::lag()\n",
      "Loading required package: corpcor\n",
      "Loading required package: MASS\n",
      "\n",
      "Attaching package: ‘MASS’\n",
      "\n",
      "The following object is masked from ‘package:dplyr’:\n",
      "\n",
      "    select\n",
      "\n",
      "Loading required package: magrittr\n",
      "\n",
      "Attaching package: ‘magrittr’\n",
      "\n",
      "The following object is masked from ‘package:purrr’:\n",
      "\n",
      "    set_names\n",
      "\n",
      "The following object is masked from ‘package:tidyr’:\n",
      "\n",
      "    extract\n",
      "\n"
     ]
    }
   ],
   "source": [
    "# Some pointers to the HILDA data\n",
    "setwd('~/Dropbox/HILDA/causal-models')\n",
    "datadir <- (\"~/Dropbox/HILDA/data/\")\n",
    "\n",
    "#### load some libraries ####\n",
    "library(tidyverse) # needed for HILDA\n",
    "library(haven)     # needed to load Stata files\n",
    "library(EDISON)\n",
    "\n",
    "#### and some helper functions for the HILDA data ####\n",
    "source(\"~/Dropbox/HILDA/src/GetRaws.R\")\n",
    "source(\"~/Dropbox/HILDA/src/ZapLabel.R\")"
   ]
  },
  {
   "cell_type": "markdown",
   "metadata": {},
   "source": [
    "#### Create simulated data with similar network size as HILDA example (see below)"
   ]
  },
  {
   "cell_type": "code",
   "execution_count": 2,
   "metadata": {
    "collapsed": true
   },
   "outputs": [],
   "source": [
    "set.seed(10)\n",
    "\n",
    "# Generate a network with 9 nodes and no changepoints\n",
    "test = generateNetwork(l=16, q=9, k_bar=0)\n",
    "\n",
    "# Generate 1000 repeated measurements for 16 time points\n",
    "test.data = lapply(1:1000, simulateNetwork, l=16, net=test)\n",
    "\n",
    "# Make array and put dimensions in the right order (repeats, time points, variables)\n",
    "test.data.array = sapply(test.data, function(x) x$sim_data, simplify='array')\n",
    "test.data.array = aperm(test.data.array, c(3,2,1))\n",
    "\n",
    "# Specify inference with no changepoints\n",
    "edison.options = defaultOptions()\n",
    "edison.options$cp.fixed = TRUE"
   ]
  },
  {
   "cell_type": "code",
   "execution_count": 3,
   "metadata": {},
   "outputs": [
    {
     "name": "stdout",
     "output_type": "stream",
     "text": [
      "[1] \"Initialisation successful.\"\n",
      "[1] \"Starting tvDBN iterations...\"\n",
      "5 % 10 % 15 % 20 % 25 % 30 % 35 % 40 % 45 % 50 % 55 % 60 % 65 % 70 % 75 % 80 % 85 % 90 % 95 % 100 % [1] \"\"\n",
      "[1] \"End of iterations\"\n",
      "Time difference of 1.228027 days\n"
     ]
    }
   ],
   "source": [
    "# Run and time EDISON\n",
    "start.time <- Sys.time()\n",
    "edison.test = EDISON.run(test.data.array, num.iter=10000, options=edison.options)\n",
    "end.time <- Sys.time()\n",
    "print(end.time - start.time)"
   ]
  },
  {
   "cell_type": "code",
   "execution_count": 4,
   "metadata": {},
   "outputs": [
    {
     "data": {
      "text/html": [
       "<ol>\n",
       "\t<li><table>\n",
       "<tbody>\n",
       "\t<tr><td>0    </td><td>0.000</td><td>0    </td><td>0.000</td><td>0.000</td><td>0.071</td><td>0.122</td><td>0.000</td><td>0.000</td></tr>\n",
       "\t<tr><td>0    </td><td>1.000</td><td>0    </td><td>0.000</td><td>0.000</td><td>0.113</td><td>0.000</td><td>0.000</td><td>0.000</td></tr>\n",
       "\t<tr><td>0    </td><td>0.000</td><td>0    </td><td>0.000</td><td>0.000</td><td>0.090</td><td>0.887</td><td>0.000</td><td>0.000</td></tr>\n",
       "\t<tr><td>0    </td><td>0.031</td><td>0    </td><td>1.000</td><td>0.000</td><td>0.045</td><td>0.000</td><td>0.000</td><td>0.000</td></tr>\n",
       "\t<tr><td>0    </td><td>0.000</td><td>0    </td><td>1.000</td><td>0.000</td><td>0.105</td><td>0.094</td><td>0.032</td><td>0.000</td></tr>\n",
       "\t<tr><td>0    </td><td>0.021</td><td>0    </td><td>0.006</td><td>0.004</td><td>0.026</td><td>0.000</td><td>1.000</td><td>1.000</td></tr>\n",
       "\t<tr><td>0    </td><td>0.049</td><td>0    </td><td>0.000</td><td>0.000</td><td>0.052</td><td>0.125</td><td>0.000</td><td>0.051</td></tr>\n",
       "\t<tr><td>1    </td><td>0.000</td><td>1    </td><td>0.000</td><td>0.000</td><td>0.142</td><td>1.000</td><td>0.000</td><td>0.000</td></tr>\n",
       "\t<tr><td>0    </td><td>0.000</td><td>0    </td><td>0.018</td><td>1.000</td><td>0.031</td><td>0.000</td><td>0.000</td><td>0.000</td></tr>\n",
       "</tbody>\n",
       "</table>\n",
       "</li>\n",
       "</ol>\n"
      ],
      "text/latex": [
       "\\begin{enumerate}\n",
       "\\item \\begin{tabular}{lllllllll}\n",
       "\t 0     & 0.000 & 0     & 0.000 & 0.000 & 0.071 & 0.122 & 0.000 & 0.000\\\\\n",
       "\t 0     & 1.000 & 0     & 0.000 & 0.000 & 0.113 & 0.000 & 0.000 & 0.000\\\\\n",
       "\t 0     & 0.000 & 0     & 0.000 & 0.000 & 0.090 & 0.887 & 0.000 & 0.000\\\\\n",
       "\t 0     & 0.031 & 0     & 1.000 & 0.000 & 0.045 & 0.000 & 0.000 & 0.000\\\\\n",
       "\t 0     & 0.000 & 0     & 1.000 & 0.000 & 0.105 & 0.094 & 0.032 & 0.000\\\\\n",
       "\t 0     & 0.021 & 0     & 0.006 & 0.004 & 0.026 & 0.000 & 1.000 & 1.000\\\\\n",
       "\t 0     & 0.049 & 0     & 0.000 & 0.000 & 0.052 & 0.125 & 0.000 & 0.051\\\\\n",
       "\t 1     & 0.000 & 1     & 0.000 & 0.000 & 0.142 & 1.000 & 0.000 & 0.000\\\\\n",
       "\t 0     & 0.000 & 0     & 0.018 & 1.000 & 0.031 & 0.000 & 0.000 & 0.000\\\\\n",
       "\\end{tabular}\n",
       "\n",
       "\\end{enumerate}\n"
      ],
      "text/markdown": [
       "1. \n",
       "| 0     | 0.000 | 0     | 0.000 | 0.000 | 0.071 | 0.122 | 0.000 | 0.000 | \n",
       "| 0     | 1.000 | 0     | 0.000 | 0.000 | 0.113 | 0.000 | 0.000 | 0.000 | \n",
       "| 0     | 0.000 | 0     | 0.000 | 0.000 | 0.090 | 0.887 | 0.000 | 0.000 | \n",
       "| 0     | 0.031 | 0     | 1.000 | 0.000 | 0.045 | 0.000 | 0.000 | 0.000 | \n",
       "| 0     | 0.000 | 0     | 1.000 | 0.000 | 0.105 | 0.094 | 0.032 | 0.000 | \n",
       "| 0     | 0.021 | 0     | 0.006 | 0.004 | 0.026 | 0.000 | 1.000 | 1.000 | \n",
       "| 0     | 0.049 | 0     | 0.000 | 0.000 | 0.052 | 0.125 | 0.000 | 0.051 | \n",
       "| 1     | 0.000 | 1     | 0.000 | 0.000 | 0.142 | 1.000 | 0.000 | 0.000 | \n",
       "| 0     | 0.000 | 0     | 0.018 | 1.000 | 0.031 | 0.000 | 0.000 | 0.000 | \n",
       "\n",
       "\n",
       "\n",
       "\n",
       "\n"
      ],
      "text/plain": [
       "[[1]]\n",
       "      [,1]  [,2] [,3]  [,4]  [,5]  [,6]  [,7]  [,8]  [,9]\n",
       " [1,]    0 0.000    0 0.000 0.000 0.071 0.122 0.000 0.000\n",
       " [2,]    0 1.000    0 0.000 0.000 0.113 0.000 0.000 0.000\n",
       " [3,]    0 0.000    0 0.000 0.000 0.090 0.887 0.000 0.000\n",
       " [4,]    0 0.031    0 1.000 0.000 0.045 0.000 0.000 0.000\n",
       " [5,]    0 0.000    0 1.000 0.000 0.105 0.094 0.032 0.000\n",
       " [6,]    0 0.021    0 0.006 0.004 0.026 0.000 1.000 1.000\n",
       " [7,]    0 0.049    0 0.000 0.000 0.052 0.125 0.000 0.051\n",
       " [8,]    1 0.000    1 0.000 0.000 0.142 1.000 0.000 0.000\n",
       " [9,]    0 0.000    0 0.018 1.000 0.031 0.000 0.000 0.000\n"
      ]
     },
     "metadata": {},
     "output_type": "display_data"
    }
   ],
   "source": [
    "# Calculate posterior probabilities of the edges in the network\n",
    "calculateEdgeProbabilities(edison.test)$probs.segs"
   ]
  },
  {
   "cell_type": "markdown",
   "metadata": {},
   "source": [
    "It took **30 hrs** to test a network with p = 9, n = 1000 and no changepoints with simulated data. \n",
    "To be done: Compare the edge probabilities with the edges in the simulated data to check accuracy."
   ]
  },
  {
   "cell_type": "markdown",
   "metadata": {},
   "source": [
    "## Testing the HILDA data  \n",
    "The aim here is only to check whether real data from HILDA with the same dimensions takes a similar time to run as the simulated data (i.e,. 30 hrs or 1.22 days). This is provided as just a check to test whether there is something funny about the HILDA data causing the problem. "
   ]
  },
  {
   "cell_type": "code",
   "execution_count": 5,
   "metadata": {},
   "outputs": [
    {
     "name": "stdout",
     "output_type": "stream",
     "text": [
      "Importing dataframes................Done"
     ]
    }
   ],
   "source": [
    "#### Load the HILDA dataset ####\n",
    "filepaths <- list.files(\n",
    "  path = datadir,\n",
    "  pattern = '^Combined.*.dta$',\n",
    "  full.names = TRUE\n",
    ")\n",
    "\n",
    "cat('Importing dataframes')\n",
    "hilda <- list()\n",
    "for (pathtofile in filepaths) {\n",
    "  df <- read_dta(pathtofile)\n",
    "  hilda <- append(hilda, list(df))\n",
    "  cat('.')\n",
    "}\n",
    "cat('Done')"
   ]
  },
  {
   "cell_type": "code",
   "execution_count": null,
   "metadata": {
    "collapsed": true
   },
   "outputs": [],
   "source": [
    "#### Create the variable matrices ####\n",
    "predictors <- c('ghmh',       # mental health\n",
    "                'losat',      # life satisfaction\n",
    "                'losatyh',    # health satisfaction\n",
    "                'wscei',      # weekly gross wages/salary\n",
    "                'lssupac',    # I don't have anyone I can confide in\n",
    "                'lssupvl',    # I often feel very lonely\n",
    "                'lsrush',     # feeling rushed\n",
    "                'lshrhw',     # hours per week housework\n",
    "                'lsshare'     # share of housework\n",
    ")\n",
    "\n",
    "df.long <- GetRaws(hilda, predictors)\n",
    "\n",
    "matrixlist <- list()\n",
    "for (code in predictors) {\n",
    "  df.long %>%\n",
    "    filter(hildacode == code) %>%\n",
    "    spread(waveid, value) %>%\n",
    "    select(-hildacode, -xwaveid) %>%\n",
    "    as.matrix() -> mat\n",
    "  matrixlist[[code]] <- mat\n",
    "}\n",
    "\n",
    "hilda.array <- simplify2array(matrixlist)\n",
    "write_rds(hilda.array, 'data/hildadata.rds')"
   ]
  },
  {
   "cell_type": "markdown",
   "metadata": {},
   "source": [
    "We have 2917 people in the selected data set. Test a random selection of 1000 people"
   ]
  },
  {
   "cell_type": "code",
   "execution_count": 2,
   "metadata": {},
   "outputs": [
    {
     "name": "stdout",
     "output_type": "stream",
     "text": [
      "[1] \"Initialisation successful.\"\n",
      "[1] \"Starting tvDBN iterations...\"\n",
      "5 % 10 % 15 % 20 % 25 % 30 % 35 % 40 % 45 % 50 % 55 % 60 % 65 % 70 % 75 % 80 % 85 % 90 % 95 % 100 % [1] \"\"\n",
      "[1] \"End of iterations\"\n",
      "Time difference of 1.461462 mins\n"
     ]
    }
   ],
   "source": [
    "hilda.array <- read_rds('data/hildadata.rds')\n",
    "\n",
    "# Specify inference with no changepoints\n",
    "edison.options = defaultOptions()\n",
    "edison.options$cp.fixed = TRUE\n",
    "\n",
    "# Run EDISON\n",
    "randomidx <- sample.int(n = 2917, size = 1000) # random selection of row\n",
    "hilda.random <- hilda.array[randomidx, , ]\n",
    "\n",
    "start.time <- Sys.time()\n",
    "hilda.test = EDISON.run(hilda.random, num.iter=10000, options=edison.options)\n",
    "end.time <- Sys.time()\n",
    "print(end.time - start.time) # 1.461462 mins"
   ]
  },
  {
   "cell_type": "markdown",
   "metadata": {},
   "source": [
    "Original time difference of 1.248522 days.  \n",
    "Current time difference of 1.461462 mins."
   ]
  },
  {
   "cell_type": "code",
   "execution_count": 3,
   "metadata": {},
   "outputs": [
    {
     "data": {
      "text/html": [
       "<ol>\n",
       "\t<li><table>\n",
       "<tbody>\n",
       "\t<tr><td>0</td><td>1</td><td>0</td><td>1</td><td>1</td><td>1</td><td>1</td><td>0</td><td>0</td></tr>\n",
       "\t<tr><td>1</td><td>1</td><td>0</td><td>0</td><td>1</td><td>1</td><td>0</td><td>0</td><td>1</td></tr>\n",
       "\t<tr><td>1</td><td>0</td><td>0</td><td>1</td><td>0</td><td>0</td><td>0</td><td>0</td><td>0</td></tr>\n",
       "\t<tr><td>0</td><td>0</td><td>1</td><td>0</td><td>0</td><td>0</td><td>1</td><td>1</td><td>0</td></tr>\n",
       "\t<tr><td>1</td><td>0</td><td>1</td><td>0</td><td>1</td><td>1</td><td>0</td><td>0</td><td>1</td></tr>\n",
       "\t<tr><td>0</td><td>1</td><td>0</td><td>0</td><td>1</td><td>1</td><td>0</td><td>0</td><td>1</td></tr>\n",
       "\t<tr><td>0</td><td>1</td><td>1</td><td>1</td><td>0</td><td>0</td><td>1</td><td>1</td><td>0</td></tr>\n",
       "\t<tr><td>1</td><td>0</td><td>0</td><td>0</td><td>0</td><td>0</td><td>0</td><td>1</td><td>1</td></tr>\n",
       "\t<tr><td>0</td><td>0</td><td>1</td><td>1</td><td>0</td><td>0</td><td>1</td><td>1</td><td>0</td></tr>\n",
       "</tbody>\n",
       "</table>\n",
       "</li>\n",
       "</ol>\n"
      ],
      "text/latex": [
       "\\begin{enumerate}\n",
       "\\item \\begin{tabular}{lllllllll}\n",
       "\t 0 & 1 & 0 & 1 & 1 & 1 & 1 & 0 & 0\\\\\n",
       "\t 1 & 1 & 0 & 0 & 1 & 1 & 0 & 0 & 1\\\\\n",
       "\t 1 & 0 & 0 & 1 & 0 & 0 & 0 & 0 & 0\\\\\n",
       "\t 0 & 0 & 1 & 0 & 0 & 0 & 1 & 1 & 0\\\\\n",
       "\t 1 & 0 & 1 & 0 & 1 & 1 & 0 & 0 & 1\\\\\n",
       "\t 0 & 1 & 0 & 0 & 1 & 1 & 0 & 0 & 1\\\\\n",
       "\t 0 & 1 & 1 & 1 & 0 & 0 & 1 & 1 & 0\\\\\n",
       "\t 1 & 0 & 0 & 0 & 0 & 0 & 0 & 1 & 1\\\\\n",
       "\t 0 & 0 & 1 & 1 & 0 & 0 & 1 & 1 & 0\\\\\n",
       "\\end{tabular}\n",
       "\n",
       "\\end{enumerate}\n"
      ],
      "text/markdown": [
       "1. \n",
       "| 0 | 1 | 0 | 1 | 1 | 1 | 1 | 0 | 0 |\n",
       "| 1 | 1 | 0 | 0 | 1 | 1 | 0 | 0 | 1 |\n",
       "| 1 | 0 | 0 | 1 | 0 | 0 | 0 | 0 | 0 |\n",
       "| 0 | 0 | 1 | 0 | 0 | 0 | 1 | 1 | 0 |\n",
       "| 1 | 0 | 1 | 0 | 1 | 1 | 0 | 0 | 1 |\n",
       "| 0 | 1 | 0 | 0 | 1 | 1 | 0 | 0 | 1 |\n",
       "| 0 | 1 | 1 | 1 | 0 | 0 | 1 | 1 | 0 |\n",
       "| 1 | 0 | 0 | 0 | 0 | 0 | 0 | 1 | 1 |\n",
       "| 0 | 0 | 1 | 1 | 0 | 0 | 1 | 1 | 0 |\n",
       "\n",
       "\n",
       "\n",
       "\n"
      ],
      "text/plain": [
       "[[1]]\n",
       "      [,1] [,2] [,3] [,4] [,5] [,6] [,7] [,8] [,9]\n",
       " [1,]    0    1    0    1    1    1    1    0    0\n",
       " [2,]    1    1    0    0    1    1    0    0    1\n",
       " [3,]    1    0    0    1    0    0    0    0    0\n",
       " [4,]    0    0    1    0    0    0    1    1    0\n",
       " [5,]    1    0    1    0    1    1    0    0    1\n",
       " [6,]    0    1    0    0    1    1    0    0    1\n",
       " [7,]    0    1    1    1    0    0    1    1    0\n",
       " [8,]    1    0    0    0    0    0    0    1    1\n",
       " [9,]    0    0    1    1    0    0    1    1    0\n"
      ]
     },
     "metadata": {},
     "output_type": "display_data"
    }
   ],
   "source": [
    "calculateEdgeProbabilities(hilda.test)$probs.segs\n",
    "\n",
    "# [[1]]\n",
    "#      [,1] [,2] [,3] [,4] [,5] [,6] [,7]  [,8]  [,9]\n",
    "# [1,]    1    0    1    0    1    1    1 0.003 0.037\n",
    "# [2,]    1    1    0    0    0    1    0 0.251 0.000\n",
    "# [3,]    0    0    0    1    1    0    0 0.000 0.308\n",
    "# [4,]    0    0    0    1    0    1    1 1.000 0.115\n",
    "# [5,]    1    1    1    0    1    1    0 0.000 0.174\n",
    "# [6,]    1    1    1    0    1    0    0 0.023 0.767\n",
    "# [7,]    0    1    1    1    0    0    1 0.635 0.341\n",
    "# [8,]    0    0    0    1    0    0    1 1.000 1.000\n",
    "# [9,]    0    0    0    0    0    0    0 1.000 1.000\n",
    "\n",
    "#write_rds(hilda.test, 'data/hildaresult1.rds')"
   ]
  },
  {
   "cell_type": "markdown",
   "metadata": {},
   "source": [
    "#### Test a different set of 1000 people from HILDA"
   ]
  },
  {
   "cell_type": "code",
   "execution_count": 4,
   "metadata": {},
   "outputs": [
    {
     "data": {
      "text/html": [
       "0"
      ],
      "text/latex": [
       "0"
      ],
      "text/markdown": [
       "0"
      ],
      "text/plain": [
       "[1] 0"
      ]
     },
     "metadata": {},
     "output_type": "display_data"
    }
   ],
   "source": [
    "# Take the next sample\n",
    "rowidx <- seq(1:2917)\n",
    "newrandomidx <- sort(sample(rowidx[!(rowidx %in% randomidx)], 1000))\n",
    "sum(randomidx %in% newrandomidx) # check samples are unique"
   ]
  },
  {
   "cell_type": "code",
   "execution_count": 5,
   "metadata": {},
   "outputs": [
    {
     "name": "stdout",
     "output_type": "stream",
     "text": [
      "[1] \"Initialisation successful.\"\n",
      "[1] \"Starting tvDBN iterations...\"\n",
      "5 % 10 % 15 % 20 % 25 % 30 % 35 % 40 % 45 % 50 % 55 % 60 % 65 % 70 % 75 % 80 % 85 % 90 % 95 % 100 % [1] \"\"\n",
      "[1] \"End of iterations\"\n",
      "Time difference of 1.47213 mins\n"
     ]
    }
   ],
   "source": [
    "hilda.random <- hilda.array[newrandomidx, , ]\n",
    "\n",
    "start.time <- Sys.time()\n",
    "hilda.test = EDISON.run(hilda.random, num.iter=10000, options=edison.options)\n",
    "end.time <- Sys.time()\n",
    "print(end.time - start.time)"
   ]
  },
  {
   "cell_type": "code",
   "execution_count": 6,
   "metadata": {},
   "outputs": [
    {
     "data": {
      "text/html": [
       "<ol>\n",
       "\t<li><table>\n",
       "<tbody>\n",
       "\t<tr><td>1    </td><td>0    </td><td>0.891</td><td>0    </td><td>1    </td><td>0    </td><td>0    </td><td>1    </td><td>0    </td></tr>\n",
       "\t<tr><td>0    </td><td>1    </td><td>1.000</td><td>1    </td><td>1    </td><td>1    </td><td>1    </td><td>1    </td><td>0    </td></tr>\n",
       "\t<tr><td>1    </td><td>0    </td><td>1.000</td><td>1    </td><td>0    </td><td>0    </td><td>0    </td><td>0    </td><td>1    </td></tr>\n",
       "\t<tr><td>0    </td><td>0    </td><td>0.000</td><td>0    </td><td>0    </td><td>1    </td><td>1    </td><td>1    </td><td>1    </td></tr>\n",
       "\t<tr><td>1    </td><td>1    </td><td>0.707</td><td>0    </td><td>1    </td><td>1    </td><td>0    </td><td>0    </td><td>0    </td></tr>\n",
       "\t<tr><td>1    </td><td>1    </td><td>0.387</td><td>1    </td><td>1    </td><td>0    </td><td>0    </td><td>0    </td><td>1    </td></tr>\n",
       "\t<tr><td>0    </td><td>1    </td><td>0.000</td><td>1    </td><td>0    </td><td>0    </td><td>1    </td><td>0    </td><td>1    </td></tr>\n",
       "\t<tr><td>0    </td><td>0    </td><td>0.002</td><td>0    </td><td>0    </td><td>1    </td><td>0    </td><td>0    </td><td>0    </td></tr>\n",
       "\t<tr><td>0    </td><td>0    </td><td>0.000</td><td>0    </td><td>0    </td><td>0    </td><td>1    </td><td>1    </td><td>0    </td></tr>\n",
       "</tbody>\n",
       "</table>\n",
       "</li>\n",
       "</ol>\n"
      ],
      "text/latex": [
       "\\begin{enumerate}\n",
       "\\item \\begin{tabular}{lllllllll}\n",
       "\t 1     & 0     & 0.891 & 0     & 1     & 0     & 0     & 1     & 0    \\\\\n",
       "\t 0     & 1     & 1.000 & 1     & 1     & 1     & 1     & 1     & 0    \\\\\n",
       "\t 1     & 0     & 1.000 & 1     & 0     & 0     & 0     & 0     & 1    \\\\\n",
       "\t 0     & 0     & 0.000 & 0     & 0     & 1     & 1     & 1     & 1    \\\\\n",
       "\t 1     & 1     & 0.707 & 0     & 1     & 1     & 0     & 0     & 0    \\\\\n",
       "\t 1     & 1     & 0.387 & 1     & 1     & 0     & 0     & 0     & 1    \\\\\n",
       "\t 0     & 1     & 0.000 & 1     & 0     & 0     & 1     & 0     & 1    \\\\\n",
       "\t 0     & 0     & 0.002 & 0     & 0     & 1     & 0     & 0     & 0    \\\\\n",
       "\t 0     & 0     & 0.000 & 0     & 0     & 0     & 1     & 1     & 0    \\\\\n",
       "\\end{tabular}\n",
       "\n",
       "\\end{enumerate}\n"
      ],
      "text/markdown": [
       "1. \n",
       "| 1     | 0     | 0.891 | 0     | 1     | 0     | 0     | 1     | 0     |\n",
       "| 0     | 1     | 1.000 | 1     | 1     | 1     | 1     | 1     | 0     |\n",
       "| 1     | 0     | 1.000 | 1     | 0     | 0     | 0     | 0     | 1     |\n",
       "| 0     | 0     | 0.000 | 0     | 0     | 1     | 1     | 1     | 1     |\n",
       "| 1     | 1     | 0.707 | 0     | 1     | 1     | 0     | 0     | 0     |\n",
       "| 1     | 1     | 0.387 | 1     | 1     | 0     | 0     | 0     | 1     |\n",
       "| 0     | 1     | 0.000 | 1     | 0     | 0     | 1     | 0     | 1     |\n",
       "| 0     | 0     | 0.002 | 0     | 0     | 1     | 0     | 0     | 0     |\n",
       "| 0     | 0     | 0.000 | 0     | 0     | 0     | 1     | 1     | 0     |\n",
       "\n",
       "\n",
       "\n",
       "\n"
      ],
      "text/plain": [
       "[[1]]\n",
       "      [,1] [,2]  [,3] [,4] [,5] [,6] [,7] [,8] [,9]\n",
       " [1,]    1    0 0.891    0    1    0    0    1    0\n",
       " [2,]    0    1 1.000    1    1    1    1    1    0\n",
       " [3,]    1    0 1.000    1    0    0    0    0    1\n",
       " [4,]    0    0 0.000    0    0    1    1    1    1\n",
       " [5,]    1    1 0.707    0    1    1    0    0    0\n",
       " [6,]    1    1 0.387    1    1    0    0    0    1\n",
       " [7,]    0    1 0.000    1    0    0    1    0    1\n",
       " [8,]    0    0 0.002    0    0    1    0    0    0\n",
       " [9,]    0    0 0.000    0    0    0    1    1    0\n"
      ]
     },
     "metadata": {},
     "output_type": "display_data"
    }
   ],
   "source": [
    "calculateEdgeProbabilities(hilda.test)$probs.segs\n",
    "\n",
    "# 0.946 1 1 0 1 1 1 0 0.000\n",
    "# 0.000 0 0 0 0 0 0 1 0.045\n",
    "# 0.000 0 0 1 1 1 0 0 1.000\n",
    "# 0.000 0 1 1 0 0 1 1 0.000\n",
    "# 1.000 1 1 0 1 1 0 0 0.000\n",
    "# 1.000 0 0 0 1 0 0 0 0.691\n",
    "# 1.000 1 0 1 0 0 1 1 0.260\n",
    "# 0.000 1 0 1 0 0 1 0 1.000\n",
    "# 0.045 0 1 0 0 1 0 1 1.000\n"
   ]
  },
  {
   "cell_type": "code",
   "execution_count": 7,
   "metadata": {
    "collapsed": true
   },
   "outputs": [],
   "source": [
    "write_rds(hilda.test, 'data/hildaresult2.rds')"
   ]
  },
  {
   "cell_type": "markdown",
   "metadata": {},
   "source": [
    "## Conclusions\n",
    "With n = 1000 and p = 9, EDISON takes about 30 hours on my machine. I also ran it on the HILDA dataset with the same dimensions and it also takes about 30 hours (so nothing funny going on between simulated and real data).  \n",
    "\n",
    "However after the fix provided by SIH, the code takes about 1.4 minutes to run on my machine. This represents a performance improvement over 1000 times faster than the original code."
   ]
  },
  {
   "cell_type": "code",
   "execution_count": null,
   "metadata": {
    "collapsed": true
   },
   "outputs": [],
   "source": []
  }
 ],
 "metadata": {
  "kernelspec": {
   "display_name": "R",
   "language": "R",
   "name": "ir"
  },
  "language_info": {
   "codemirror_mode": "r",
   "file_extension": ".r",
   "mimetype": "text/x-r-source",
   "name": "R",
   "pygments_lexer": "r",
   "version": "3.5.2"
  }
 },
 "nbformat": 4,
 "nbformat_minor": 2
}
